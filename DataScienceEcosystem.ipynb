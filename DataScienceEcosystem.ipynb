{
 "cells": [
  {
   "cell_type": "markdown",
   "id": "b798748d-11d2-4faa-9f23-c1b66badf1d2",
   "metadata": {},
   "source": [
    "# Data Science Tools and Ecosystem"
   ]
  },
  {
   "cell_type": "markdown",
   "id": "5d17e4eb-3541-4c97-afd0-852313d65bad",
   "metadata": {},
   "source": [
    "### In this notebook, Data Science Tools and Ecosystem are summarised. "
   ]
  },
  {
   "cell_type": "markdown",
   "id": "ff352d20-a595-4be2-a7b9-af5a1893d5c5",
   "metadata": {},
   "source": [
    "**Objectives:**\n",
    "* List popular languages Data Scientists use\n",
    "* List commonly used libraries for Data Science\n",
    "* List popular Data Science Tools"
   ]
  },
  {
   "cell_type": "markdown",
   "id": "7985760d-409a-437c-afa0-7ecbb237209c",
   "metadata": {},
   "source": [
    "Some of the popular languages that Data Scientists use are: \n",
    "1. Python\n",
    "2. R\n",
    "3. SQL"
   ]
  },
  {
   "cell_type": "markdown",
   "id": "e30e1df7-7a8b-4216-a069-0ed851e3569d",
   "metadata": {},
   "source": [
    "Some of the commonly used libraries used by Data scientists include: \n",
    "1. Pandas\n",
    "2. TensorFlow\n",
    "3. PyTorch"
   ]
  },
  {
   "cell_type": "markdown",
   "id": "cd1a2149-a1e8-4acc-ad92-24d8cd906354",
   "metadata": {},
   "source": [
    "|Data Science Tools|\n",
    "|-------|\n",
    "| RStudio |\n",
    "| ApacheSpark |\n",
    "|TensorFlow|"
   ]
  },
  {
   "cell_type": "markdown",
   "id": "9d108437-dd6e-4717-ab5d-8a92e7b65c1a",
   "metadata": {},
   "source": [
    "### Below are a few examples of evaluating arithmetic expressions in Python."
   ]
  },
  {
   "cell_type": "code",
   "execution_count": 7,
   "id": "492138a3-7fc1-4089-9b90-393b652e5d47",
   "metadata": {},
   "outputs": [
    {
     "data": {
      "text/plain": [
       "17"
      ]
     },
     "execution_count": 7,
     "metadata": {},
     "output_type": "execute_result"
    }
   ],
   "source": [
    "# This is a simple arithmetic expression to multiply then add integers\n",
    "(3*4)+5"
   ]
  },
  {
   "cell_type": "code",
   "execution_count": 9,
   "id": "cfb87e93-a32b-4d82-a5d6-ebcf67618b27",
   "metadata": {},
   "outputs": [
    {
     "data": {
      "text/plain": [
       "3.3333333333333335"
      ]
     },
     "execution_count": 9,
     "metadata": {},
     "output_type": "execute_result"
    }
   ],
   "source": [
    "# This will convert 200minutes to hours by dividing by 60\n",
    "200/60"
   ]
  },
  {
   "cell_type": "markdown",
   "id": "71ff7372-a1d5-4374-ba36-234355eb0a9d",
   "metadata": {},
   "source": [
    "## Author\n",
    "Salvatore Bella"
   ]
  },
  {
   "cell_type": "code",
   "execution_count": null,
   "id": "7ee0015c-52eb-43db-900d-a1f534602c1f",
   "metadata": {},
   "outputs": [],
   "source": []
  }
 ],
 "metadata": {
  "kernelspec": {
   "display_name": "Python [conda env:base] *",
   "language": "python",
   "name": "conda-base-py"
  },
  "language_info": {
   "codemirror_mode": {
    "name": "ipython",
    "version": 3
   },
   "file_extension": ".py",
   "mimetype": "text/x-python",
   "name": "python",
   "nbconvert_exporter": "python",
   "pygments_lexer": "ipython3",
   "version": "3.12.7"
  }
 },
 "nbformat": 4,
 "nbformat_minor": 5
}
